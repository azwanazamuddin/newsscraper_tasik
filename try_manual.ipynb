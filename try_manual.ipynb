{
 "cells": [
  {
   "cell_type": "code",
   "execution_count": null,
   "metadata": {},
   "outputs": [],
   "source": [
    "import pandas as pd\n",
    "from bs4 import BeautifulSoup\n",
    "import requests\n",
    "from datetime import datetime"
   ]
  },
  {
   "cell_type": "code",
   "execution_count": 52,
   "metadata": {},
   "outputs": [],
   "source": [
    "def custom_strptime(date_str):\n",
    "    months = {\n",
    "        'Jan': '01', 'Feb': '02', 'Mar': '03', 'Apr': '04',\n",
    "        'Mei': '05', 'Jun': '06', 'Jul': '07', 'Agu': '08', 'Ags': '08', 'Sep': '09', 'Okt': '10', 'Nov': '11', 'Des': '12'\n",
    "    }\n",
    "    date_parts = date_str.split()\n",
    "    return datetime.strptime(f\"{date_parts[0]} {months[date_parts[1]]} {date_parts[2]} {date_parts[3]}\", '%d %m %Y %H:%M')"
   ]
  },
  {
   "cell_type": "code",
   "execution_count": 53,
   "metadata": {},
   "outputs": [],
   "source": [
    "def scrape_detik_headlines(query, total_pages=4):\n",
    "    HEADERS = {\n",
    "        'User-Agent': 'Mozilla/5.0 (X11; Linux x86_64) AppleWebKit/537.36 (KHTML, like Gecko) Chrome/44.0.2403.157 Safari/537.36',\n",
    "        'Accept-Language': 'en-US, en;q=0.5'\n",
    "    }\n",
    "\n",
    "    # Buat list untuk menyimpan data\n",
    "    data = []\n",
    "\n",
    "    base_url = f\"https://www.detik.com/search/searchall?query={query}&sortby=time&page={{}}\"\n",
    "\n",
    "    for page in range(1, total_pages + 1):\n",
    "        URL = base_url.format(page)\n",
    "        webpage = requests.get(URL, headers=HEADERS)\n",
    "        soup = BeautifulSoup(webpage.content, \"lxml\")\n",
    "        articles = soup.find_all('article')\n",
    "\n",
    "        for article in articles:\n",
    "            link = article.find('a')['href']\n",
    "            judul = article.find('h2', attrs={'class': 'title'}).string.strip()\n",
    "            date = article.find('span', attrs={'class': 'date'}).get_text(strip=True)\n",
    "            date = date.split(\",\")[1].strip()\n",
    "            # Menggunakan fungsi kustom untuk mengonversi format tanggal\n",
    "            date_obj = custom_strptime(date)\n",
    "            summary = article.find('p').string.strip()\n",
    "\n",
    "            # Menambahkan data ke list\n",
    "            data.append({\"url\": link, \"title\": judul, \"date\": date_obj, \"summary\": summary})\n",
    "\n",
    "    # Membuat DataFrame dari list data\n",
    "    df = pd.DataFrame(data)\n",
    "\n",
    "    # Menyimpan DataFrame ke dalam file CSV (opsional)\n",
    "    df.to_csv(f\"{query}_headlines.csv\", index=False, encoding='utf-8')\n",
    "\n",
    "    return df"
   ]
  },
  {
   "cell_type": "code",
   "execution_count": 54,
   "metadata": {},
   "outputs": [
    {
     "data": {
      "text/html": [
       "<div>\n",
       "<style scoped>\n",
       "    .dataframe tbody tr th:only-of-type {\n",
       "        vertical-align: middle;\n",
       "    }\n",
       "\n",
       "    .dataframe tbody tr th {\n",
       "        vertical-align: top;\n",
       "    }\n",
       "\n",
       "    .dataframe thead th {\n",
       "        text-align: right;\n",
       "    }\n",
       "</style>\n",
       "<table border=\"1\" class=\"dataframe\">\n",
       "  <thead>\n",
       "    <tr style=\"text-align: right;\">\n",
       "      <th></th>\n",
       "      <th>url</th>\n",
       "      <th>title</th>\n",
       "      <th>date</th>\n",
       "      <th>summary</th>\n",
       "    </tr>\n",
       "  </thead>\n",
       "  <tbody>\n",
       "    <tr>\n",
       "      <th>0</th>\n",
       "      <td>https://www.detik.com/jabar/berita/d-6954906/v...</td>\n",
       "      <td>Viral Foto Siswa SMP di Tasik Injak Kepala Tem...</td>\n",
       "      <td>2023-09-28 18:00:00</td>\n",
       "      <td>Warga Tasikmalaya dihebohkan dengan beredarnya...</td>\n",
       "    </tr>\n",
       "    <tr>\n",
       "      <th>1</th>\n",
       "      <td>https://www.detik.com/jabar/hukum-dan-kriminal...</td>\n",
       "      <td>Polisi Ungkap Aplikasi Walla Pemicu Pelajar Ba...</td>\n",
       "      <td>2023-09-28 14:30:00</td>\n",
       "      <td>Kasus pelajar Bandung jadi korban sodomi 2 pri...</td>\n",
       "    </tr>\n",
       "    <tr>\n",
       "      <th>2</th>\n",
       "      <td>https://www.detik.com/jabar/hukum-dan-kriminal...</td>\n",
       "      <td>Kocar-kacir Pejudi Adu Muncang di Tasikmalaya ...</td>\n",
       "      <td>2023-09-28 11:41:00</td>\n",
       "      <td>Polisi menggerebek arena permainan adu kemiri ...</td>\n",
       "    </tr>\n",
       "    <tr>\n",
       "      <th>3</th>\n",
       "      <td>https://www.detik.com/jabar/hukum-dan-kriminal...</td>\n",
       "      <td>Pura-pura Beli Test Pack, Maling Gondol 2 Kota...</td>\n",
       "      <td>2023-09-28 01:30:00</td>\n",
       "      <td>Dua buah kotak amal di apotek Padayungan Kota ...</td>\n",
       "    </tr>\n",
       "    <tr>\n",
       "      <th>4</th>\n",
       "      <td>https://www.detik.com/jabar/hukum-dan-kriminal...</td>\n",
       "      <td>Jejak Kriminal Bule Amerika Tusuk Mati Mertua ...</td>\n",
       "      <td>2023-09-27 17:45:00</td>\n",
       "      <td>Bule asal Amerika Serikat Arthur Leigh Welohr ...</td>\n",
       "    </tr>\n",
       "  </tbody>\n",
       "</table>\n",
       "</div>"
      ],
      "text/plain": [
       "                                                 url  \\\n",
       "0  https://www.detik.com/jabar/berita/d-6954906/v...   \n",
       "1  https://www.detik.com/jabar/hukum-dan-kriminal...   \n",
       "2  https://www.detik.com/jabar/hukum-dan-kriminal...   \n",
       "3  https://www.detik.com/jabar/hukum-dan-kriminal...   \n",
       "4  https://www.detik.com/jabar/hukum-dan-kriminal...   \n",
       "\n",
       "                                               title                date  \\\n",
       "0  Viral Foto Siswa SMP di Tasik Injak Kepala Tem... 2023-09-28 18:00:00   \n",
       "1  Polisi Ungkap Aplikasi Walla Pemicu Pelajar Ba... 2023-09-28 14:30:00   \n",
       "2  Kocar-kacir Pejudi Adu Muncang di Tasikmalaya ... 2023-09-28 11:41:00   \n",
       "3  Pura-pura Beli Test Pack, Maling Gondol 2 Kota... 2023-09-28 01:30:00   \n",
       "4  Jejak Kriminal Bule Amerika Tusuk Mati Mertua ... 2023-09-27 17:45:00   \n",
       "\n",
       "                                             summary  \n",
       "0  Warga Tasikmalaya dihebohkan dengan beredarnya...  \n",
       "1  Kasus pelajar Bandung jadi korban sodomi 2 pri...  \n",
       "2  Polisi menggerebek arena permainan adu kemiri ...  \n",
       "3  Dua buah kotak amal di apotek Padayungan Kota ...  \n",
       "4  Bule asal Amerika Serikat Arthur Leigh Welohr ...  "
      ]
     },
     "execution_count": 54,
     "metadata": {},
     "output_type": "execute_result"
    }
   ],
   "source": [
    "# Contoh penggunaan fungsi:\n",
    "query = \"kota+tasikmalaya\"\n",
    "total_pages = 20\n",
    "df = scrape_detik_headlines(query, total_pages)\n",
    "df.head()"
   ]
  },
  {
   "cell_type": "code",
   "execution_count": 56,
   "metadata": {},
   "outputs": [],
   "source": [
    "df.to_excel(\"data/berita_detik.xlsx\", index=False)"
   ]
  },
  {
   "cell_type": "code",
   "execution_count": 63,
   "metadata": {},
   "outputs": [
    {
     "data": {
      "text/html": [
       "<div>\n",
       "<style scoped>\n",
       "    .dataframe tbody tr th:only-of-type {\n",
       "        vertical-align: middle;\n",
       "    }\n",
       "\n",
       "    .dataframe tbody tr th {\n",
       "        vertical-align: top;\n",
       "    }\n",
       "\n",
       "    .dataframe thead th {\n",
       "        text-align: right;\n",
       "    }\n",
       "</style>\n",
       "<table border=\"1\" class=\"dataframe\">\n",
       "  <thead>\n",
       "    <tr style=\"text-align: right;\">\n",
       "      <th></th>\n",
       "      <th>url</th>\n",
       "      <th>title</th>\n",
       "      <th>date</th>\n",
       "      <th>summary</th>\n",
       "    </tr>\n",
       "  </thead>\n",
       "  <tbody>\n",
       "    <tr>\n",
       "      <th>0</th>\n",
       "      <td>https://www.detik.com/jabar/berita/d-6954906/v...</td>\n",
       "      <td>Viral Foto Siswa SMP di Tasik Injak Kepala Tem...</td>\n",
       "      <td>2023-09-28 18:00:00</td>\n",
       "      <td>Warga Tasikmalaya dihebohkan dengan beredarnya...</td>\n",
       "    </tr>\n",
       "    <tr>\n",
       "      <th>1</th>\n",
       "      <td>https://www.detik.com/jabar/hukum-dan-kriminal...</td>\n",
       "      <td>Polisi Ungkap Aplikasi Walla Pemicu Pelajar Ba...</td>\n",
       "      <td>2023-09-28 14:30:00</td>\n",
       "      <td>Kasus pelajar Bandung jadi korban sodomi 2 pri...</td>\n",
       "    </tr>\n",
       "    <tr>\n",
       "      <th>2</th>\n",
       "      <td>https://www.detik.com/jabar/hukum-dan-kriminal...</td>\n",
       "      <td>Kocar-kacir Pejudi Adu Muncang di Tasikmalaya ...</td>\n",
       "      <td>2023-09-28 11:41:00</td>\n",
       "      <td>Polisi menggerebek arena permainan adu kemiri ...</td>\n",
       "    </tr>\n",
       "    <tr>\n",
       "      <th>3</th>\n",
       "      <td>https://www.detik.com/jabar/hukum-dan-kriminal...</td>\n",
       "      <td>Pura-pura Beli Test Pack, Maling Gondol 2 Kota...</td>\n",
       "      <td>2023-09-28 01:30:00</td>\n",
       "      <td>Dua buah kotak amal di apotek Padayungan Kota ...</td>\n",
       "    </tr>\n",
       "    <tr>\n",
       "      <th>4</th>\n",
       "      <td>https://www.detik.com/jabar/hukum-dan-kriminal...</td>\n",
       "      <td>Jejak Kriminal Bule Amerika Tusuk Mati Mertua ...</td>\n",
       "      <td>2023-09-27 17:45:00</td>\n",
       "      <td>Bule asal Amerika Serikat Arthur Leigh Welohr ...</td>\n",
       "    </tr>\n",
       "    <tr>\n",
       "      <th>...</th>\n",
       "      <td>...</td>\n",
       "      <td>...</td>\n",
       "      <td>...</td>\n",
       "      <td>...</td>\n",
       "    </tr>\n",
       "    <tr>\n",
       "      <th>175</th>\n",
       "      <td>https://www.detik.com/jabar/berita/d-6851824/1...</td>\n",
       "      <td>16 Kepala Daerah di Jabar Bakal Lengser Akhir ...</td>\n",
       "      <td>2023-08-01 06:45:00</td>\n",
       "      <td>Sebanyak 16 kepala daerah di Jabar akan habis ...</td>\n",
       "    </tr>\n",
       "    <tr>\n",
       "      <th>176</th>\n",
       "      <td>https://www.detik.com/jabar/berita/d-6851655/j...</td>\n",
       "      <td>Jabar Hari Ini: Viral Ritual Syiah di Bandung</td>\n",
       "      <td>2023-07-31 22:10:00</td>\n",
       "      <td>Beragam peristiwa terjadi di Jawa Barat hari i...</td>\n",
       "    </tr>\n",
       "    <tr>\n",
       "      <th>177</th>\n",
       "      <td>https://www.detik.com/jabar/berita/d-6851249/h...</td>\n",
       "      <td>Hasil Evaluasi Disdik Tasik Soal Pungutan Sisw...</td>\n",
       "      <td>2023-07-31 20:00:00</td>\n",
       "      <td>Dinas Pendidikan Kota Tasikmalaya telah selesa...</td>\n",
       "    </tr>\n",
       "    <tr>\n",
       "      <th>178</th>\n",
       "      <td>https://www.detik.com/jabar/berita/d-6850758/r...</td>\n",
       "      <td>Ridwan Kamil Usulkan Nama PJ Walkot Bandung ke...</td>\n",
       "      <td>2023-07-31 17:00:00</td>\n",
       "      <td>Gubernur Jabar Ridwan Kamil telah mengusulkan ...</td>\n",
       "    </tr>\n",
       "    <tr>\n",
       "      <th>179</th>\n",
       "      <td>https://www.detik.com/jabar/berita/d-6850862/g...</td>\n",
       "      <td>Guru Madrasah Tasikmalaya Protes Aturan ASN Cu...</td>\n",
       "      <td>2023-07-31 14:35:00</td>\n",
       "      <td>Massa guru madrasah di Kota Tasikmalaya mengge...</td>\n",
       "    </tr>\n",
       "  </tbody>\n",
       "</table>\n",
       "<p>180 rows × 4 columns</p>\n",
       "</div>"
      ],
      "text/plain": [
       "                                                   url  \\\n",
       "0    https://www.detik.com/jabar/berita/d-6954906/v...   \n",
       "1    https://www.detik.com/jabar/hukum-dan-kriminal...   \n",
       "2    https://www.detik.com/jabar/hukum-dan-kriminal...   \n",
       "3    https://www.detik.com/jabar/hukum-dan-kriminal...   \n",
       "4    https://www.detik.com/jabar/hukum-dan-kriminal...   \n",
       "..                                                 ...   \n",
       "175  https://www.detik.com/jabar/berita/d-6851824/1...   \n",
       "176  https://www.detik.com/jabar/berita/d-6851655/j...   \n",
       "177  https://www.detik.com/jabar/berita/d-6851249/h...   \n",
       "178  https://www.detik.com/jabar/berita/d-6850758/r...   \n",
       "179  https://www.detik.com/jabar/berita/d-6850862/g...   \n",
       "\n",
       "                                                 title                date  \\\n",
       "0    Viral Foto Siswa SMP di Tasik Injak Kepala Tem... 2023-09-28 18:00:00   \n",
       "1    Polisi Ungkap Aplikasi Walla Pemicu Pelajar Ba... 2023-09-28 14:30:00   \n",
       "2    Kocar-kacir Pejudi Adu Muncang di Tasikmalaya ... 2023-09-28 11:41:00   \n",
       "3    Pura-pura Beli Test Pack, Maling Gondol 2 Kota... 2023-09-28 01:30:00   \n",
       "4    Jejak Kriminal Bule Amerika Tusuk Mati Mertua ... 2023-09-27 17:45:00   \n",
       "..                                                 ...                 ...   \n",
       "175  16 Kepala Daerah di Jabar Bakal Lengser Akhir ... 2023-08-01 06:45:00   \n",
       "176      Jabar Hari Ini: Viral Ritual Syiah di Bandung 2023-07-31 22:10:00   \n",
       "177  Hasil Evaluasi Disdik Tasik Soal Pungutan Sisw... 2023-07-31 20:00:00   \n",
       "178  Ridwan Kamil Usulkan Nama PJ Walkot Bandung ke... 2023-07-31 17:00:00   \n",
       "179  Guru Madrasah Tasikmalaya Protes Aturan ASN Cu... 2023-07-31 14:35:00   \n",
       "\n",
       "                                               summary  \n",
       "0    Warga Tasikmalaya dihebohkan dengan beredarnya...  \n",
       "1    Kasus pelajar Bandung jadi korban sodomi 2 pri...  \n",
       "2    Polisi menggerebek arena permainan adu kemiri ...  \n",
       "3    Dua buah kotak amal di apotek Padayungan Kota ...  \n",
       "4    Bule asal Amerika Serikat Arthur Leigh Welohr ...  \n",
       "..                                                 ...  \n",
       "175  Sebanyak 16 kepala daerah di Jabar akan habis ...  \n",
       "176  Beragam peristiwa terjadi di Jawa Barat hari i...  \n",
       "177  Dinas Pendidikan Kota Tasikmalaya telah selesa...  \n",
       "178  Gubernur Jabar Ridwan Kamil telah mengusulkan ...  \n",
       "179  Massa guru madrasah di Kota Tasikmalaya mengge...  \n",
       "\n",
       "[180 rows x 4 columns]"
      ]
     },
     "execution_count": 63,
     "metadata": {},
     "output_type": "execute_result"
    }
   ],
   "source": [
    "df"
   ]
  },
  {
   "cell_type": "markdown",
   "metadata": {},
   "source": [
    "Topic Modelling"
   ]
  },
  {
   "cell_type": "code",
   "execution_count": 59,
   "metadata": {},
   "outputs": [
    {
     "name": "stderr",
     "output_type": "stream",
     "text": [
      "[nltk_data] Downloading package stopwords to /home/superapp-\n",
      "[nltk_data]     research/nltk_data...\n",
      "[nltk_data]   Package stopwords is already up-to-date!\n"
     ]
    },
    {
     "data": {
      "text/plain": [
       "True"
      ]
     },
     "execution_count": 59,
     "metadata": {},
     "output_type": "execute_result"
    }
   ],
   "source": [
    "import nltk\n",
    "nltk.download('stopwords')"
   ]
  },
  {
   "cell_type": "code",
   "execution_count": 60,
   "metadata": {},
   "outputs": [],
   "source": [
    "import re, string, unicodedata  #modul regular expression\n",
    "import nltk\n",
    "from nltk import word_tokenize, sent_tokenize  #Paket ini membagi teks input menjadi kata-kata.,                                  \n",
    "from nltk.corpus import stopwords"
   ]
  },
  {
   "cell_type": "code",
   "execution_count": 62,
   "metadata": {},
   "outputs": [],
   "source": [
    "#preprocessing\n",
    "def removeStopword(str):\n",
    "    stop_words = set(stopwords.words('indonesian'))\n",
    "    word_tokens = word_tokenize(str)\n",
    "    filtered_sentence = [w for w in word_tokens if not w in stop_words]\n",
    "    return ' '.join(filtered_sentence)\n",
    "#remove sentence which contains only one word\n",
    "def removeSentence(str): \n",
    "    word = str.split()\n",
    "    wordCount = len(word)\n",
    "    if(wordCount<=1):\n",
    "        str = ''\n",
    "    \n",
    "    return str\n",
    "def cleaning(str):\n",
    "    #remove non-ascii\n",
    "    str = unicodedata.normalize('NFKD', str).encode('ascii', 'ignore').decode('utf-8', 'ignore')\n",
    "    #remove URLs\n",
    "    str = re.sub(r'(?i)\\b((?:https?://|www\\d{0,3}[.]|[a-z0-9.\\-]+[.][a-z]{2,4}/)(?:[^\\s()<>]+|\\(([^\\s()<>]+|(\\([^\\s()<>]+\\)))*\\))+(?:\\(([^\\s()<>]+|(\\([^\\s()<>]+\\)))*\\)|[^\\s`!()\\[\\]{};:\\'\".,<>?«»“”‘’]))', '', str)\n",
    "    #remove punctuations\n",
    "    str = re.sub(r'[^\\w]|_',' ',str)\n",
    "    #remove digit from string\n",
    "    str = re.sub(\"\\S*\\d\\S*\", \"\", str).strip()\n",
    "    #remove digit or numbers\n",
    "    str = re.sub(r\"\\b\\d+\\b\", \" \", str)\n",
    "    #to lowercase\n",
    "    str = str.lower()\n",
    "    #Remove additional white spaces\n",
    "    str = re.sub('[\\s]+', ' ', str)\n",
    "       \n",
    "    return str\n",
    "def preprocessing(str):\n",
    "    str = removeSentence(str)\n",
    "    str = cleaning(str)\n",
    "    str = removeStopword(str)\n",
    "    \n",
    "    return str"
   ]
  },
  {
   "cell_type": "code",
   "execution_count": 65,
   "metadata": {},
   "outputs": [
    {
     "name": "stdout",
     "output_type": "stream",
     "text": [
      "dimana lokasi kuliner murah\n",
      "alamat dimana sih enak\n",
      "\n"
     ]
    }
   ],
   "source": [
    "#test the code\n",
    "sentences = [\"dimana lokasi kuliner tasikmalaya yang murah\",\"alamat tasik dimana sih, yang enak\",\"s\"]\n",
    "for st in sentences:\n",
    "    r = preprocessing(st)\n",
    "    print(r)"
   ]
  },
  {
   "cell_type": "code",
   "execution_count": 68,
   "metadata": {},
   "outputs": [],
   "source": [
    "import pandas as pd\n",
    "\n",
    "# Perform preprocessing on the 'Pertanyaan' column\n",
    "txt = df['summary'].apply(preprocessing)\n",
    "\n",
    "# Save the preprocessed data to a new CSV file\n",
    "txt.to_csv('clean-data.csv', index=False)"
   ]
  },
  {
   "cell_type": "code",
   "execution_count": 69,
   "metadata": {},
   "outputs": [
    {
     "data": {
      "text/plain": [
       "0      warga dihebohkan beredarnya foto siswa smp men...\n",
       "1      pelajar bandung korban sodomi pria percakapan ...\n",
       "2      polisi menggerebek arena permainan adu kemiri ...\n",
       "3      buah kotak amal apotek padayungan kota digondo...\n",
       "4      bule amerika serikat arthur leigh welohr ditah...\n",
       "                             ...                        \n",
       "175          kepala daerah jabar habis jabatannya daerah\n",
       "176    beragam peristiwa jawa barat senin viral ritua...\n",
       "177    dinas pendidikan kota selesai evaluasi punguta...\n",
       "178    gubernur jabar ridwan kamil mengusulkan nama p...\n",
       "179    massa guru madrasah kota menggelar aksi demons...\n",
       "Name: summary, Length: 180, dtype: object"
      ]
     },
     "execution_count": 69,
     "metadata": {},
     "output_type": "execute_result"
    }
   ],
   "source": [
    "txt"
   ]
  },
  {
   "cell_type": "code",
   "execution_count": null,
   "metadata": {},
   "outputs": [],
   "source": []
  }
 ],
 "metadata": {
  "kernelspec": {
   "display_name": "suapp",
   "language": "python",
   "name": "python3"
  },
  "language_info": {
   "codemirror_mode": {
    "name": "ipython",
    "version": 3
   },
   "file_extension": ".py",
   "mimetype": "text/x-python",
   "name": "python",
   "nbconvert_exporter": "python",
   "pygments_lexer": "ipython3",
   "version": "3.11.4"
  },
  "orig_nbformat": 4
 },
 "nbformat": 4,
 "nbformat_minor": 2
}
