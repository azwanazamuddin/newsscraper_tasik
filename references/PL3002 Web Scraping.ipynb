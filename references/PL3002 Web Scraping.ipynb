{
 "cells": [
  {
   "cell_type": "markdown",
   "id": "56fa8eac",
   "metadata": {},
   "source": [
    "# Basic Web Scraping\n",
    "\n",
    "Notebook ini akan mendemonstrasikan Teknik-teknik untuk melakukan data mining (web scraping), yang meliputi:\n",
    "- Instalasi\n",
    "- Pembuatan User Agent dan permohonan URL\n",
    "- Pembuatan \"Soup Information\"\n",
    "- Menentukan tags dari objek yang akan diekstrak\n",
    "- Ekstraksi informasi produk\n",
    "- Komparasi hasil dari berbagai web\n"
   ]
  },
  {
   "cell_type": "markdown",
   "id": "bd1b04d5",
   "metadata": {},
   "source": [
    "## Preparation"
   ]
  },
  {
   "cell_type": "markdown",
   "id": "0099eca4",
   "metadata": {},
   "source": [
    "Approach:\n",
    "\n",
    "- First, we are going to import our required libraries.\n",
    "- Then we will take the URL stored in our text file.\n",
    "- We will feed the URL to our soup object which will then extract relevant information from the given URL\n",
    "- based on the element id we provide it and save it to our CSV file."
   ]
  },
  {
   "cell_type": "markdown",
   "id": "7e4156ba",
   "metadata": {},
   "source": [
    "### 1. Install"
   ]
  },
  {
   "cell_type": "code",
   "execution_count": 1,
   "id": "18157d5b",
   "metadata": {},
   "outputs": [],
   "source": [
    "#!pip install beautifulsoup4\n",
    "## BeautifulSoup: Our primary module contains a method to access a webpage over HTTP.\n",
    "\n",
    "#!pip install lxml\n",
    "## lxml: Helper library to process webpages in python language.\n",
    "\n",
    "#!pip install requests\n",
    "##requests: Makes the process of sending HTTP requests flawless.the output of the function"
   ]
  },
  {
   "cell_type": "markdown",
   "id": "a0cadac4",
   "metadata": {},
   "source": [
    "### 2. Creating a User Agents and Sending a request to a URL"
   ]
  },
  {
   "cell_type": "markdown",
   "id": "b60edcc4",
   "metadata": {},
   "source": [
    "The website contains tons of user agents for the reader to choose from. Following is an example of a User-Agent within the header value."
   ]
  },
  {
   "cell_type": "code",
   "execution_count": 2,
   "id": "ab208028",
   "metadata": {
    "scrolled": true
   },
   "outputs": [],
   "source": [
    "from bs4 import BeautifulSoup\n",
    "import requests\n",
    "\n",
    "File = open(\"out.csv\", \"a\")\n",
    "\n",
    "HEADERS = ({'User-Agent':\n",
    "            'Mozilla/5.0 (X11; Linux x86_64) AppleWebKit/537.36 (KHTML, like Gecko) Chrome/44.0.2403.157 Safari/537.36',\n",
    "            'Accept-Language': 'en-US, en;q=0.5'})\n",
    "\n",
    "#Sending a request to a URL\n",
    "\n",
    "URL = \"https://www.amazon.com/Sony-PlayStation-Pro-1TB-Console-4/dp/B07K14XKZH/\"\n",
    "webpage = requests.get(URL, headers=HEADERS)"
   ]
  },
  {
   "cell_type": "markdown",
   "id": "de89e638",
   "metadata": {},
   "source": [
    "A webpage is accessed by its URL (Uniform Resource Locator). With the help of the URL, we will send the request to the webpage for accessing its data.\n",
    "\n",
    "The requested webpage features an Amazon product. Hence, our Python script focuses on extracting product details like “The Name of the Product”, “The Current Price” and so on.\n",
    "\n",
    "Note: The request to the URL is sent via \"requests\" library. In case the user gets a “No module named requests” error, it can be installed by \"pip install requests\"."
   ]
  },
  {
   "cell_type": "markdown",
   "id": "36b587ee",
   "metadata": {},
   "source": [
    "### 3. Creating a soup of information"
   ]
  },
  {
   "cell_type": "markdown",
   "id": "34c217bb",
   "metadata": {},
   "source": [
    "The webpage variable contains a response received by the website. We pass the content of the response and the type of parser to the Beautiful Soup function.\n",
    "\n",
    "lxml is a high-speed parser employed by Beautiful Soup to break down the HTML page into complex Python objects. "
   ]
  },
  {
   "cell_type": "code",
   "execution_count": 3,
   "id": "87af8013",
   "metadata": {},
   "outputs": [],
   "source": [
    "#Creating a soup of information\n",
    "\n",
    "soup = BeautifulSoup(webpage.content, \"lxml\")"
   ]
  },
  {
   "cell_type": "markdown",
   "id": "364f3862",
   "metadata": {},
   "source": [
    "### 4. Discovering the exact tags for Object Extraction"
   ]
  },
  {
   "cell_type": "markdown",
   "id": "ee50afb1",
   "metadata": {},
   "source": [
    "One of the most hectic part of this project is unearthing the ids and tags storing the relevant information. As mentioned before, we use web browsers for accomplishing this task.\n",
    "\n",
    "We open the webpage in the browser and inspect the relevant element by pressing right-click.\n",
    "\n",
    "See presentation for example"
   ]
  },
  {
   "cell_type": "markdown",
   "id": "973b3fa7",
   "metadata": {},
   "source": [
    "### 5. Extracting the Product Title"
   ]
  },
  {
   "cell_type": "markdown",
   "id": "02725ba2",
   "metadata": {},
   "source": [
    "Using the find() function available for searching specific tags with specific attributes we locate the Tag Object containing title of the product."
   ]
  },
  {
   "cell_type": "code",
   "execution_count": 4,
   "id": "6ab56a9b",
   "metadata": {},
   "outputs": [],
   "source": [
    "# Outer Tag Object\n",
    "title = soup.find(\"span\", attrs={\"id\":'productTitle'})"
   ]
  },
  {
   "cell_type": "markdown",
   "id": "35fd7d08",
   "metadata": {},
   "source": [
    "Then, we take out the NavigableString Object"
   ]
  },
  {
   "cell_type": "code",
   "execution_count": 5,
   "id": "9f824ecd",
   "metadata": {},
   "outputs": [],
   "source": [
    "# Inner NavigableString Object\n",
    "title_value = title.string"
   ]
  },
  {
   "cell_type": "markdown",
   "id": "ea036a53",
   "metadata": {},
   "source": [
    "And finally, we strip extra spaces and convert the object to a string value."
   ]
  },
  {
   "cell_type": "code",
   "execution_count": 6,
   "id": "98242583",
   "metadata": {},
   "outputs": [],
   "source": [
    "# Title as a string value\n",
    "title_string = title_value.strip()"
   ]
  },
  {
   "cell_type": "markdown",
   "id": "37b03eea",
   "metadata": {},
   "source": [
    "We can take a look at types of each variable using type() function."
   ]
  },
  {
   "cell_type": "code",
   "execution_count": 7,
   "id": "6e6d70e9",
   "metadata": {},
   "outputs": [
    {
     "name": "stdout",
     "output_type": "stream",
     "text": [
      "<class 'bs4.element.Tag'>\n",
      "<class 'bs4.element.NavigableString'>\n",
      "<class 'str'>\n",
      "\n",
      "Product Title =  Sony PlayStation 4 Pro 1TB Console - Black (PS4 Pro)\n"
     ]
    }
   ],
   "source": [
    "# Printing types of values for efficient understanding\n",
    "print(type(title))\n",
    "print(type(title_value))\n",
    "print(type(title_string))\n",
    "print()\n",
    "\n",
    "# Printing Product Title\n",
    "print(\"Product Title = \", title_string)"
   ]
  },
  {
   "cell_type": "markdown",
   "id": "19a688f8",
   "metadata": {},
   "source": [
    "### 6. Python Script to extract product information"
   ]
  },
  {
   "cell_type": "markdown",
   "id": "3f2f5fa9",
   "metadata": {},
   "source": [
    "The following Python script displays the following details for a product:\n",
    "\n",
    "The Title of the Product\n",
    "The Price of the Product\n",
    "The Rating of the Product\n",
    "Number of Customer Reviews\n",
    "Product Availability"
   ]
  },
  {
   "cell_type": "code",
   "execution_count": 8,
   "id": "b5bf38d2",
   "metadata": {},
   "outputs": [
    {
     "name": "stdout",
     "output_type": "stream",
     "text": [
      "Product Title = Sony PlayStation 4 Pro 1TB Console - Black (PS4 Pro)\n",
      "Product Price = \n",
      "Product Rating = 4.5 out of 5 stars\n",
      "Number of Product Reviews = 4,216 ratings\n",
      "Availability = Only 2 left in stock - order soon\n",
      "\n",
      "\n"
     ]
    }
   ],
   "source": [
    "from bs4 import BeautifulSoup\n",
    "import requests\n",
    "\n",
    "# Function to extract Product Title\n",
    "def get_title(soup):\n",
    "\t\n",
    "\ttry:\n",
    "\t\t# Outer Tag Object\n",
    "\t\ttitle = soup.find(\"span\", attrs={\"id\":'productTitle'})\n",
    "\n",
    "\t\t# Inner NavigableString Object\n",
    "\t\ttitle_value = title.string\n",
    "\n",
    "\t\t# Title as a string value\n",
    "\t\ttitle_string = title_value.strip()\n",
    "\n",
    "\t\t# # Printing types of values for efficient understanding\n",
    "\t\t# print(type(title))\n",
    "\t\t# print(type(title_value))\n",
    "\t\t# print(type(title_string))\n",
    "\t\t# print()\n",
    "\n",
    "\texcept AttributeError:\n",
    "\t\ttitle_string = \"\"\t\n",
    "\n",
    "\treturn title_string\n",
    "\n",
    "# Function to extract Product Price\n",
    "def get_price(soup):\n",
    "\n",
    "\ttry:\n",
    "\t\tprice = soup.find(\"span\", attrs={'id':'priceblock_ourprice'}).string.strip()\n",
    "\n",
    "\texcept AttributeError:\n",
    "\t\tprice = \"\"\t\n",
    "\n",
    "\treturn price\n",
    "\n",
    "# Function to extract Product Rating\n",
    "def get_rating(soup):\n",
    "\n",
    "\ttry:\n",
    "\t\trating = soup.find(\"i\", attrs={'class':'a-icon a-icon-star a-star-4-5'}).string.strip()\n",
    "\t\t\n",
    "\texcept AttributeError:\n",
    "\t\t\n",
    "\t\ttry:\n",
    "\t\t\trating = soup.find(\"span\", attrs={'class':'a-icon-alt'}).string.strip()\n",
    "\t\texcept:\n",
    "\t\t\trating = \"\"\t\n",
    "\n",
    "\treturn rating\n",
    "\n",
    "# Function to extract Number of User Reviews\n",
    "def get_review_count(soup):\n",
    "\ttry:\n",
    "\t\treview_count = soup.find(\"span\", attrs={'id':'acrCustomerReviewText'}).string.strip()\n",
    "\t\t\n",
    "\texcept AttributeError:\n",
    "\t\treview_count = \"\"\t\n",
    "\n",
    "\treturn review_count\n",
    "\n",
    "# Function to extract Availability Status\n",
    "def get_availability(soup):\n",
    "\ttry:\n",
    "\t\tavailable = soup.find(\"div\", attrs={'id':'availability'})\n",
    "\t\tavailable = available.find(\"span\").string.strip()\n",
    "\n",
    "\texcept AttributeError:\n",
    "\t\tavailable = \"\"\t\n",
    "\n",
    "\treturn available\t\n",
    "\n",
    "if __name__ == '__main__':\n",
    "\n",
    "\t# Headers for request\n",
    "\tHEADERS = ({'User-Agent':\n",
    "\t            'Mozilla/5.0 (X11; Linux x86_64) AppleWebKit/537.36 (KHTML, like Gecko) Chrome/44.0.2403.157 Safari/537.36',\n",
    "\t            'Accept-Language': 'en-US, en;q=0.5'})\n",
    "\n",
    "\t# The webpage URL\n",
    "\tURL = \"https://www.amazon.com/Sony-PlayStation-Pro-1TB-Console-4/dp/B07K14XKZH/\"\n",
    "\n",
    "\t# HTTP Request\n",
    "\twebpage = requests.get(URL, headers=HEADERS)\n",
    "\n",
    "\t# Soup Object containing all data\n",
    "\tsoup = BeautifulSoup(webpage.content, \"lxml\")\n",
    "\n",
    "\t# Function calls to display all necessary product information\n",
    "\tprint(\"Product Title =\", get_title(soup))\n",
    "\tprint(\"Product Price =\", get_price(soup))\n",
    "\tprint(\"Product Rating =\", get_rating(soup))\n",
    "\tprint(\"Number of Product Reviews =\", get_review_count(soup))\n",
    "\tprint(\"Availability =\", get_availability(soup))\n",
    "\tprint()\n",
    "\tprint()"
   ]
  },
  {
   "cell_type": "markdown",
   "id": "e0f4dc38",
   "metadata": {},
   "source": [
    "### 7. Fetching links from an Amazon search result webpage"
   ]
  },
  {
   "cell_type": "markdown",
   "id": "74b9ab65",
   "metadata": {},
   "source": [
    "Previously, we obtained information about a random PlayStation 4. It would be a resourceful idea to extract such information for multiple PlayStations for comparison of prices and ratings.\n",
    "\n",
    "We can find a link enclosed in a <a><\\a> tag as a value for the href attribute.\n",
    "    \n",
    "Instead of fetching a single link, we can extract all the similar links using find_all() function."
   ]
  },
  {
   "cell_type": "code",
   "execution_count": 9,
   "id": "fe56c21b",
   "metadata": {},
   "outputs": [],
   "source": [
    "# Fetch links as List of Tag Objects\n",
    "links = soup.find_all(\"a\", attrs={'class':'a-link-normal s-no-outline'})"
   ]
  },
  {
   "cell_type": "markdown",
   "id": "6f944dd9",
   "metadata": {},
   "source": [
    "The find_all() function returns an iterable object containing multiple Tag objects. As a result, we pick each Tag object and pluck out the link stored as a value for href attribute."
   ]
  },
  {
   "cell_type": "code",
   "execution_count": 10,
   "id": "acadfc62",
   "metadata": {},
   "outputs": [],
   "source": [
    "# Store the links\n",
    "links_list = []\n",
    "\n",
    "# Loop for extracting links from Tag Objects\n",
    "for link in links:\n",
    "\tlinks_list.append(link.get('href'))"
   ]
  },
  {
   "cell_type": "code",
   "execution_count": 11,
   "id": "95e1f0ea",
   "metadata": {},
   "outputs": [],
   "source": [
    "# Loop for extracting product details from each link \n",
    "for link in links_list:\n",
    "    new_webpage = requests.get(\"https://www.amazon.com\" + link, headers=HEADERS)\n",
    "    new_soup = BeautifulSoup(new_webpage.content, \"lxml\")\n",
    "\n",
    "    print(\"Product Title =\", get_title(new_soup))\n",
    "    print(\"Product Price =\", get_price(new_soup))\n",
    "    print(\"Product Rating =\", get_rating(new_soup))\n",
    "    print(\"Number of Product Reviews =\", get_review_count(new_soup))\n",
    "    print(\"Availability =\", get_availability(new_soup))"
   ]
  },
  {
   "cell_type": "markdown",
   "id": "8572b77f",
   "metadata": {},
   "source": [
    "### 8. Python Script to extract product details across multiple webpages\n"
   ]
  },
  {
   "cell_type": "code",
   "execution_count": 12,
   "id": "eb42776b",
   "metadata": {},
   "outputs": [
    {
     "name": "stdout",
     "output_type": "stream",
     "text": [
      "Product Title = Sony Playstation PS4 1TB Black Console\n",
      "Product Price = \n",
      "Product Rating = 4.6 out of 5 stars\n",
      "Number of Product Reviews = 1,221 ratings\n",
      "Availability = Not Available\n",
      "\n",
      "\n",
      "Product Title = PlayStation4 Console 1TB – Call of Duty Modern Warfare II Bundle (Renewed)\n",
      "Product Price = \n",
      "Product Rating = 4.6 out of 5 stars\n",
      "Number of Product Reviews = 3 ratings\n",
      "Availability = In Stock\n",
      "\n",
      "\n",
      "Product Title = Among Us: Impostor Edition (PS4) - PlayStation 4\n",
      "Product Price = \n",
      "Product Rating = 4.1 out of 5 stars\n",
      "Number of Product Reviews = 34 ratings\n",
      "Availability = Only 14 left in stock - order soon\n",
      "\n",
      "\n",
      "Product Title = The Smurfs: Mission Vileaf - Smurftastic Edition (PS4) - PlayStation 4\n",
      "Product Price = \n",
      "Product Rating = 4.5 out of 5 stars\n",
      "Number of Product Reviews = 213 ratings\n",
      "Availability = In Stock\n",
      "\n",
      "\n",
      "Product Title = Kingdoms of Amalur Re-Reckoning - PlayStation 4\n",
      "Product Price = \n",
      "Product Rating = 4.6 out of 5 stars\n",
      "Number of Product Reviews = 2,422 ratings\n",
      "Availability = Not Available\n",
      "\n",
      "\n",
      "Product Title = Linkhood Cooling Fan for PS4 Slim, External USB Cooler Game Console Cooling Fan with Extra USB3.0 Port for Sony Playstation 4 Slim Console (for PS4 Slim Only)\n",
      "Product Price = \n",
      "Product Rating = 3.7 out of 5 stars\n",
      "Number of Product Reviews = 262 ratings\n",
      "Availability = In Stock\n",
      "\n",
      "\n",
      "Product Title = Grand Theft Auto V Premium Edition Playstation 4\n",
      "Product Price = \n",
      "Product Rating = 4.7 out of 5 stars\n",
      "Number of Product Reviews = 10,238 ratings\n",
      "Availability = In Stock\n",
      "\n",
      "\n",
      "Product Title = PlayStation 4 Slim 1TB Limited Edition Console - Call of Duty WWII Bundle [Discontinued]\n",
      "Product Price = \n",
      "Product Rating = 4.6 out of 5 stars\n",
      "Number of Product Reviews = 731 ratings\n",
      "Availability = Only 3 left in stock - order soon\n",
      "\n",
      "\n",
      "Product Title = PlayStation 4 Slim 1TB Console\n",
      "Product Price = \n",
      "Product Rating = 4.7 out of 5 stars\n",
      "Number of Product Reviews = 15,576 ratings\n",
      "Availability = \n",
      "\n",
      "\n",
      "Product Title = PlayStation 4 Slim 1TB Console - Black (Renewed)\n",
      "Product Price = \n",
      "Product Rating = 4.3 out of 5 stars\n",
      "Number of Product Reviews = 1,390 ratings\n",
      "Availability = Not Available\n",
      "\n",
      "\n",
      "Product Title = Sony PlayStation 4 Slim Limited Edition 1TB Gaming Console\n",
      "Product Price = \n",
      "Product Rating = 4.3 out of 5 stars\n",
      "Number of Product Reviews = 1,246 ratings\n",
      "Availability = Not Available\n",
      "\n",
      "\n",
      "Product Title = Honghao Controllers For PS4 With Hall Triggers/Vibration/Programming/8 RGB LED Lights, Wireless Remote Joystick Gamepad Accessories, Shock PS4 Dual Controller for PlayStation 4/Slim/Pro/PC (Black)\n",
      "Product Price = \n",
      "Product Rating = 4.4 out of 5 stars\n",
      "Number of Product Reviews = 14 ratings\n",
      "Availability = In Stock\n",
      "\n",
      "\n",
      "Product Title = PlayStation 4 Slim 1TB Limited Edition Console - Days of Play Bundle [Discontinued]\n",
      "Product Price = \n",
      "Product Rating = 4.7 out of 5 stars\n",
      "Number of Product Reviews = 807 ratings\n",
      "Availability = Only 1 left in stock - order soon\n",
      "\n",
      "\n",
      "Product Title = Need for Speed Heat - PlayStation 4\n",
      "Product Price = \n",
      "Product Rating = 4.6 out of 5 stars\n",
      "Number of Product Reviews = 3,061 ratings\n",
      "Availability = In Stock\n",
      "\n",
      "\n",
      "Product Title = Playstation Sony 4, 500GB Slim System [CUH-2215AB01], Black, 3003347\n",
      "Product Price = \n",
      "Product Rating = 4.6 out of 5 stars\n",
      "Number of Product Reviews = 325 ratings\n",
      "Availability = Only 1 left in stock - order soon\n",
      "\n",
      "\n",
      "Product Title = PlayStation 4 500GB Console [Old Model][Discontinued]\n",
      "Product Price = \n",
      "Product Rating = 4.6 out of 5 stars\n",
      "Number of Product Reviews = 13,530 ratings\n",
      "Availability = Only 2 left in stock - order soon\n",
      "\n",
      "\n",
      "Product Title = Lies of P - PlayStation 4\n",
      "Product Price = \n",
      "Product Rating = 5.0 out of 5 stars\n",
      "Number of Product Reviews = 2 ratings\n",
      "Availability = In Stock\n",
      "\n",
      "\n",
      "Product Title = PlayStation 4 Console - 1TB Slim Edition (Renewed)\n",
      "Product Price = \n",
      "Product Rating = 4.8 out of 5 stars\n",
      "Number of Product Reviews = 42 ratings\n",
      "Availability = Not Available\n",
      "\n",
      "\n",
      "Product Title = PlayStation 2 Slim Console PS2 (Renewed)\n",
      "Product Price = \n",
      "Product Rating = 4.1 out of 5 stars\n",
      "Number of Product Reviews = 1,083 ratings\n",
      "Availability = Only 3 left in stock - order soon.\n",
      "\n",
      "\n",
      "Product Title = Playstation SONY 4, 500GB Slim System [CUH-2215AB01], Black, 3003347 (Renewed)\n",
      "Product Price = \n",
      "Product Rating = 4.7 out of 5 stars\n",
      "Number of Product Reviews = 366 ratings\n",
      "Availability = Only 11 left in stock - order soon.\n",
      "\n",
      "\n",
      "Product Title = Playstation 2 Console - Black (Renewed)\n",
      "Product Price = \n",
      "Product Rating = 4.1 out of 5 stars\n",
      "Number of Product Reviews = 329 ratings\n",
      "Availability = Only 5 left in stock - order soon.\n",
      "\n",
      "\n",
      "Product Title = The Surge - PlayStation 4\n",
      "Product Price = \n",
      "Product Rating = 4.2 out of 5 stars\n",
      "Number of Product Reviews = 276 ratings\n",
      "Availability = In Stock\n",
      "\n",
      "\n",
      "Product Title = Grand Ages: Medieval - PlayStation 4\n",
      "Product Price = \n",
      "Product Rating = 3.9 out of 5 stars\n",
      "Number of Product Reviews = 112 ratings\n",
      "Availability = In Stock\n",
      "\n",
      "\n",
      "Product Title = Sudden Strike 4: Complete Collection PS4 - PlayStation 4\n",
      "Product Price = \n",
      "Product Rating = 4.2 out of 5 stars\n",
      "Number of Product Reviews = 269 ratings\n",
      "Availability = In Stock\n",
      "\n",
      "\n"
     ]
    }
   ],
   "source": [
    "from bs4 import BeautifulSoup\n",
    "import requests\n",
    "\n",
    "# Function to extract Product Title\n",
    "def get_title(soup):\n",
    "\t\n",
    "\ttry:\n",
    "\t\t# Outer Tag Object\n",
    "\t\ttitle = soup.find(\"span\", attrs={\"id\":'productTitle'})\n",
    "\n",
    "\t\t# Inner NavigatableString Object\n",
    "\t\ttitle_value = title.string\n",
    "\n",
    "\t\t# Title as a string value\n",
    "\t\ttitle_string = title_value.strip()\n",
    "\n",
    "\t\t# # Printing types of values for efficient understanding\n",
    "\t\t# print(type(title))\n",
    "\t\t# print(type(title_value))\n",
    "\t\t# print(type(title_string))\n",
    "\t\t# print()\n",
    "\n",
    "\texcept AttributeError:\n",
    "\t\ttitle_string = \"\"\t\n",
    "\n",
    "\treturn title_string\n",
    "\n",
    "# Function to extract Product Price\n",
    "def get_price(soup):\n",
    "\n",
    "\ttry:\n",
    "\t\tprice = soup.find(\"span\", attrs={'id':'priceblock_ourprice'}).string.strip()\n",
    "\n",
    "\texcept AttributeError:\n",
    "\n",
    "\t\ttry:\n",
    "\t\t\t# If there is some deal price\n",
    "\t\t\tprice = soup.find(\"span\", attrs={'id':'priceblock_dealprice'}).string.strip()\n",
    "\n",
    "\t\texcept:\t\t\n",
    "\t\t\tprice = \"\"\t\n",
    "\n",
    "\treturn price\n",
    "\n",
    "# Function to extract Product Rating\n",
    "def get_rating(soup):\n",
    "\n",
    "\ttry:\n",
    "\t\trating = soup.find(\"i\", attrs={'class':'a-icon a-icon-star a-star-4-5'}).string.strip()\n",
    "\t\t\n",
    "\texcept AttributeError:\n",
    "\t\t\n",
    "\t\ttry:\n",
    "\t\t\trating = soup.find(\"span\", attrs={'class':'a-icon-alt'}).string.strip()\n",
    "\t\texcept:\n",
    "\t\t\trating = \"\"\t\n",
    "\n",
    "\treturn rating\n",
    "\n",
    "# Function to extract Number of User Reviews\n",
    "def get_review_count(soup):\n",
    "\ttry:\n",
    "\t\treview_count = soup.find(\"span\", attrs={'id':'acrCustomerReviewText'}).string.strip()\n",
    "\t\t\n",
    "\texcept AttributeError:\n",
    "\t\treview_count = \"\"\t\n",
    "\n",
    "\treturn review_count\n",
    "\n",
    "# Function to extract Availability Status\n",
    "def get_availability(soup):\n",
    "\ttry:\n",
    "\t\tavailable = soup.find(\"div\", attrs={'id':'availability'})\n",
    "\t\tavailable = available.find(\"span\").string.strip()\n",
    "\n",
    "\texcept AttributeError:\n",
    "\t\tavailable = \"Not Available\"\t\n",
    "\n",
    "\treturn available\t\n",
    "\n",
    "\n",
    "if __name__ == '__main__':\n",
    "\n",
    "\t# Headers for request\n",
    "\tHEADERS = ({'User-Agent':\n",
    "\t            'Mozilla/5.0 (X11; Linux x86_64) AppleWebKit/537.36 (KHTML, like Gecko) Chrome/44.0.2403.157 Safari/537.36',\n",
    "\t            'Accept-Language': 'en-US'})\n",
    "\n",
    "\t# The webpage URL\n",
    "\tURL = \"https://www.amazon.com/s?k=playstation+4&ref=nb_sb_noss_2\"\n",
    "\t\n",
    "\t# HTTP Request\n",
    "\twebpage = requests.get(URL, headers=HEADERS)\n",
    "\n",
    "\t# Soup Object containing all data\n",
    "\tsoup = BeautifulSoup(webpage.content, \"lxml\")\n",
    "\n",
    "\t# Fetch links as List of Tag Objects\n",
    "\tlinks = soup.find_all(\"a\", attrs={'class':'a-link-normal s-no-outline'})\n",
    "\n",
    "\t# Store the links\n",
    "\tlinks_list = []\n",
    "\n",
    "\t# Loop for extracting links from Tag Objects\n",
    "\tfor link in links:\n",
    "\t\tlinks_list.append(link.get('href'))\n",
    "\n",
    "\n",
    "\t# Loop for extracting product details from each link \n",
    "\tfor link in links_list:\n",
    "\n",
    "\t\tnew_webpage = requests.get(\"https://www.amazon.com\" + link, headers=HEADERS)\n",
    "\n",
    "\t\tnew_soup = BeautifulSoup(new_webpage.content, \"lxml\")\n",
    "\t\t\n",
    "\t\t# Function calls to display all necessary product information\n",
    "\t\tprint(\"Product Title =\", get_title(new_soup))\n",
    "\t\tprint(\"Product Price =\", get_price(new_soup))\n",
    "\t\tprint(\"Product Rating =\", get_rating(new_soup))\n",
    "\t\tprint(\"Number of Product Reviews =\", get_review_count(new_soup))\n",
    "\t\tprint(\"Availability =\", get_availability(new_soup))\n",
    "\t\tprint()\n",
    "\t\tprint()"
   ]
  }
 ],
 "metadata": {
  "kernelspec": {
   "display_name": "Python 3 (ipykernel)",
   "language": "python",
   "name": "python3"
  },
  "language_info": {
   "codemirror_mode": {
    "name": "ipython",
    "version": 3
   },
   "file_extension": ".py",
   "mimetype": "text/x-python",
   "name": "python",
   "nbconvert_exporter": "python",
   "pygments_lexer": "ipython3",
   "version": "3.11.4"
  }
 },
 "nbformat": 4,
 "nbformat_minor": 5
}
